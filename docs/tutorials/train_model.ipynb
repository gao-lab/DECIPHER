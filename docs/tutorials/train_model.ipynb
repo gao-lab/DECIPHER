{
 "cells": [
  {
   "attachments": {},
   "cell_type": "markdown",
   "metadata": {},
   "source": [
    "# Train Spider model\n",
    "\n",
    "> (Estimated time: ~8 min with GPU)\n",
    "\n",
    "In this vignette, we show how to train `spider` on spatial omics data to obtain independent omics embedding and spatial embedding of cells. We have following steps:\n",
    "\n",
    "1. Init model\n",
    "2. Register data\n",
    "3. Fit model\n",
    "4. Visualize results\n",
    "\n",
    " Here we use our mimics as an example, you can download it from [here](https://drive.google.com/file/d/1g2zUWNimhWHRZXjbIrZMi_6cbjKiHa0h/view?usp=sharing).\n"
   ]
  },
  {
   "cell_type": "code",
   "execution_count": 1,
   "metadata": {},
   "outputs": [],
   "source": [
    "import scanpy as sc\n",
    "\n",
    "from spider import Spider\n",
    "from spider.utils import scanpy_viz"
   ]
  },
  {
   "cell_type": "markdown",
   "metadata": {},
   "source": [
    "## Step 1: Init model\n",
    "Init the model with a self-defined work_dir. It's better to have a directory that doesn't exist yet, `Spider` will create it and save the model, log and embedding files in it."
   ]
  },
  {
   "cell_type": "code",
   "execution_count": null,
   "metadata": {},
   "outputs": [],
   "source": [
    "model = Spider(work_dir='/path/to/work_dir')"
   ]
  },
  {
   "attachments": {},
   "cell_type": "markdown",
   "metadata": {},
   "source": [
    "## Step2: Register datasets\n",
    "`Spider` expect `AnnData` object (or list of `AnnData`, see advanced tutorial) as input. The expression matrix should be raw counts (not log library size normalized or scaled). And the spati al coordinates should be in the `adata.obsm['spatial']` slot.\n",
    "\n",
    "> See `AnnData` [documentation](https://anndata.readthedocs.io/en/latest/index.html) for more details if you are unfamiliar, including how to construct `AnnData` objects from scratch, and how to read data in other formats (csv, mtx, loom, etc.) into `AnnData` objects.\n",
    "\n",
    "Here we load `AnnData` from existing `h5ad` file, which is the native file format for `AnnData`. The `h5ad` files used in this tutorial can be downloaded from here:"
   ]
  },
  {
   "cell_type": "code",
   "execution_count": null,
   "metadata": {},
   "outputs": [],
   "source": [
    "adata = sc.read_h5ad('/path/to/adata')\n",
    "model.register_data(adata)"
   ]
  },
  {
   "cell_type": "markdown",
   "metadata": {},
   "source": [
    "## Step 3: fit model\n",
    "Fit model with the following command:"
   ]
  },
  {
   "cell_type": "code",
   "execution_count": null,
   "metadata": {},
   "outputs": [],
   "source": [
    "model.fit_omics()"
   ]
  },
  {
   "cell_type": "markdown",
   "metadata": {},
   "source": [
    "After training, we can extract the embeddings from the model:"
   ]
  },
  {
   "cell_type": "code",
   "execution_count": null,
   "metadata": {},
   "outputs": [],
   "source": [
    "gex_embedding = model.center_emb\n",
    "nbr_embedding = model.nbr_emb"
   ]
  },
  {
   "cell_type": "markdown",
   "metadata": {},
   "source": [
    "## Step 4: Visualize results\n",
    "\n",
    "At last we cluster and visualize the embeddings."
   ]
  },
  {
   "cell_type": "code",
   "execution_count": null,
   "metadata": {},
   "outputs": [],
   "source": [
    "adata.obsm['X_center'] = gex_embedding\n",
    "adata.obsm['X_nbr'] = nbr_embedding\n",
    "adata = scanpy_viz(adata, ['center', 'nbr'], resolution=0.5)"
   ]
  }
 ],
 "metadata": {
  "kernelspec": {
   "display_name": "Python 3",
   "language": "python",
   "name": "python3"
  },
  "language_info": {
   "codemirror_mode": {
    "name": "ipython",
    "version": 3
   },
   "file_extension": ".py",
   "mimetype": "text/x-python",
   "name": "python",
   "nbconvert_exporter": "python",
   "pygments_lexer": "ipython3",
   "version": "3.8.13"
  },
  "vscode": {
   "interpreter": {
    "hash": "88786030ea59a7c96004ff67a345d53abff4d58eacfbb401c324cb520462373b"
   }
  }
 },
 "nbformat": 4,
 "nbformat_minor": 4
}
